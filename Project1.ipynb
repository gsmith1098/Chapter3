{
 "cells": [
  {
   "cell_type": "code",
   "execution_count": 20,
   "metadata": {},
   "outputs": [
    {
     "name": "stdout",
     "output_type": "stream",
     "text": [
      "Collecting seaborn\n",
      "  Downloading seaborn-0.12.2-py3-none-any.whl (293 kB)\n",
      "Requirement already satisfied, skipping upgrade: matplotlib!=3.6.1,>=3.1 in c:\\programdata\\anaconda3\\lib\\site-packages (from seaborn) (3.1.3)\n",
      "Requirement already satisfied, skipping upgrade: numpy!=1.24.0,>=1.17 in c:\\programdata\\anaconda3\\lib\\site-packages (from seaborn) (1.18.1)\n",
      "Collecting typing_extensions; python_version < \"3.8\"\n",
      "  Downloading typing_extensions-4.7.1-py3-none-any.whl (33 kB)\n",
      "Requirement already satisfied, skipping upgrade: pandas>=0.25 in c:\\programdata\\anaconda3\\lib\\site-packages (from seaborn) (1.0.1)\n",
      "Requirement already satisfied, skipping upgrade: kiwisolver>=1.0.1 in c:\\programdata\\anaconda3\\lib\\site-packages (from matplotlib!=3.6.1,>=3.1->seaborn) (1.1.0)\n",
      "Requirement already satisfied, skipping upgrade: cycler>=0.10 in c:\\programdata\\anaconda3\\lib\\site-packages (from matplotlib!=3.6.1,>=3.1->seaborn) (0.10.0)\n",
      "Requirement already satisfied, skipping upgrade: python-dateutil>=2.1 in c:\\programdata\\anaconda3\\lib\\site-packages (from matplotlib!=3.6.1,>=3.1->seaborn) (2.8.1)\n",
      "Requirement already satisfied, skipping upgrade: pyparsing!=2.0.4,!=2.1.2,!=2.1.6,>=2.0.1 in c:\\programdata\\anaconda3\\lib\\site-packages (from matplotlib!=3.6.1,>=3.1->seaborn) (2.4.6)\n",
      "Requirement already satisfied, skipping upgrade: pytz>=2017.2 in c:\\programdata\\anaconda3\\lib\\site-packages (from pandas>=0.25->seaborn) (2019.3)\n",
      "Requirement already satisfied, skipping upgrade: setuptools in c:\\programdata\\anaconda3\\lib\\site-packages (from kiwisolver>=1.0.1->matplotlib!=3.6.1,>=3.1->seaborn) (45.2.0.post20200210)\n",
      "Requirement already satisfied, skipping upgrade: six in c:\\programdata\\anaconda3\\lib\\site-packages (from cycler>=0.10->matplotlib!=3.6.1,>=3.1->seaborn) (1.14.0)\n",
      "Installing collected packages: typing-extensions, seaborn\n",
      "  Attempting uninstall: seaborn\n",
      "    Found existing installation: seaborn 0.10.0\n",
      "    Uninstalling seaborn-0.10.0:\n",
      "      Successfully uninstalled seaborn-0.10.0\n",
      "Successfully installed seaborn-0.12.2 typing-extensions-4.7.1\n",
      "Note: you may need to restart the kernel to use updated packages.\n"
     ]
    }
   ],
   "source": [
    "pip install -U seaborn\n"
   ]
  },
  {
   "cell_type": "code",
   "execution_count": 2,
   "metadata": {},
   "outputs": [
    {
     "name": "stdout",
     "output_type": "stream",
     "text": [
      "Requirement already satisfied: researchpy in c:\\programdata\\anaconda3\\lib\\site-packages (0.3.5)\n",
      "Requirement already satisfied: numpy in c:\\programdata\\anaconda3\\lib\\site-packages (from researchpy) (1.18.1)\n",
      "Requirement already satisfied: statsmodels in c:\\programdata\\anaconda3\\lib\\site-packages (from researchpy) (0.11.0)\n",
      "Requirement already satisfied: patsy in c:\\programdata\\anaconda3\\lib\\site-packages (from researchpy) (0.5.1)\n",
      "Requirement already satisfied: scipy in c:\\programdata\\anaconda3\\lib\\site-packages (from researchpy) (1.4.1)\n",
      "Requirement already satisfied: pandas in c:\\programdata\\anaconda3\\lib\\site-packages (from researchpy) (1.0.1)\n",
      "Requirement already satisfied: six in c:\\programdata\\anaconda3\\lib\\site-packages (from patsy->researchpy) (1.14.0)\n",
      "Requirement already satisfied: pytz>=2017.2 in c:\\programdata\\anaconda3\\lib\\site-packages (from pandas->researchpy) (2019.3)\n",
      "Requirement already satisfied: python-dateutil>=2.6.1 in c:\\programdata\\anaconda3\\lib\\site-packages (from pandas->researchpy) (2.8.1)\n",
      "Note: you may need to restart the kernel to use updated packages.\n"
     ]
    }
   ],
   "source": [
    "pip install researchpy"
   ]
  },
  {
   "cell_type": "code",
   "execution_count": 3,
   "metadata": {},
   "outputs": [],
   "source": [
    "import statistics as st # Built in Python library for descriptive statistics\n",
    "import pandas as pd  # Data manipulation and analysis library\n",
    "import researchpy as rp  # Open source library focused on univariate and bivariate analysis\n",
    "import numpy as np  # General purpose array processing package\n",
    "import seaborn as sns  # Data visualization library based on matplotlib\n",
    "import matplotlib.pyplot as plt  # Data visualization library\n",
    "import scipy.stats as spy  # Statistical library from Scipy\n",
    "\n",
    "\n"
   ]
  },
  {
   "cell_type": "code",
   "execution_count": 4,
   "metadata": {},
   "outputs": [],
   "source": [
    "import statistics as st # Built in Python library for descriptive statistics\n",
    "import pandas as pd  # Data manipulation and analysis library\n",
    "import researchpy as rp  # Open source library focused on univariate and bivariate analysis\n",
    "import numpy as np  # General purpose array processing package\n",
    "import seaborn as sns  # Data visualization library based on matplotlib\n",
    "import matplotlib.pyplot as plt  # Data visualization library\n",
    "import scipy.stats as spy  # Statistical library from Scipy\n",
    "from scipy.stats import norm, kurtosis, laplace, semicircular\n",
    "from scipy import stats\n",
    "from scipy.stats import gmean, hmean, trim_mean"
   ]
  },
  {
   "cell_type": "code",
   "execution_count": 13,
   "metadata": {},
   "outputs": [
    {
     "data": {
      "text/plain": [
       "(2500, 10)"
      ]
     },
     "execution_count": 13,
     "metadata": {},
     "output_type": "execute_result"
    }
   ],
   "source": [
    "# Loading dataset1\n",
    "# https://archive.ics.uci.edu/ml/datasets/Mammographic+Mass\n",
    "# Missing Values? Yes\n",
    "#dmammo = pd.read_csv('Netflix Userbase.csv')\n",
    "\n",
    "# Loading dataset1\n",
    "# https://archive.ics.uci.edu/ml/datasets/Mammographic+Mass\n",
    "# Missing Values? Yes\n",
    "dmammo = pd.read_csv('NetflixUserbase.csv')\n",
    "dmammo.shape"
   ]
  },
  {
   "cell_type": "code",
   "execution_count": 22,
   "metadata": {},
   "outputs": [
    {
     "data": {
      "text/plain": [
       "<bound method NDFrame.head of       User ID Subscription Type  Monthly Revenue  Join Date Last Payment Date  \\\n",
       "0           1             Basic               10   15-01-22         10/6/2023   \n",
       "1           2           Premium               15   5/9/2021          22-06-23   \n",
       "2           3          Standard               12   28-02-23          27-06-23   \n",
       "3           4          Standard               12  10/7/2022          26-06-23   \n",
       "4           5             Basic               10   1/5/2023          28-06-23   \n",
       "...       ...               ...              ...        ...               ...   \n",
       "2495     2496           Premium               14   25-07-22         12/7/2023   \n",
       "2496     2497             Basic               15   4/8/2022          14-07-23   \n",
       "2497     2498          Standard               12   9/8/2022          15-07-23   \n",
       "2498     2499          Standard               13  12/8/2022         12/7/2023   \n",
       "2499     2500             Basic               15   13-08-22         12/7/2023   \n",
       "\n",
       "             Country  Age  Gender      Device Plan Duration  \n",
       "0      United States   28    Male  Smartphone       1 Month  \n",
       "1             Canada   35  Female      Tablet       1 Month  \n",
       "2     United Kingdom   42    Male    Smart TV       1 Month  \n",
       "3          Australia   51  Female      Laptop       1 Month  \n",
       "4            Germany   33    Male  Smartphone       1 Month  \n",
       "...              ...  ...     ...         ...           ...  \n",
       "2495           Spain   28  Female    Smart TV       1 Month  \n",
       "2496           Spain   33  Female    Smart TV       1 Month  \n",
       "2497   United States   38    Male      Laptop       1 Month  \n",
       "2498          Canada   48  Female      Tablet       1 Month  \n",
       "2499   United States   35  Female    Smart TV       1 Month  \n",
       "\n",
       "[2500 rows x 10 columns]>"
      ]
     },
     "execution_count": 22,
     "metadata": {},
     "output_type": "execute_result"
    }
   ],
   "source": [
    "dmammo.head"
   ]
  },
  {
   "cell_type": "code",
   "execution_count": 7,
   "metadata": {
    "scrolled": true
   },
   "outputs": [
    {
     "name": "stdout",
     "output_type": "stream",
     "text": [
      "            Bins  Frequency  Relative Frequency  Cumulative Frequency\n",
      "0   (45.9, 51.0]        585               23.40                 23.40\n",
      "1   (35.7, 40.8]        514               20.56                 43.96\n",
      "2   (30.6, 35.7]        493               19.72                 63.68\n",
      "3   (40.8, 45.9]        485               19.40                 83.08\n",
      "4   (25.5, 30.6]        423               16.92                100.00\n",
      "5   (51.0, 56.1]          0                0.00                100.00\n",
      "6   (20.4, 25.5]          0                0.00                100.00\n",
      "7   (15.3, 20.4]          0                0.00                100.00\n",
      "8   (10.2, 15.3]          0                0.00                100.00\n",
      "9    (5.1, 10.2]          0                0.00                100.00\n",
      "10    (0.0, 5.1]          0                0.00                100.00\n"
     ]
    },
    {
     "data": {
      "text/plain": [
       "<matplotlib.axes._subplots.AxesSubplot at 0x238c5e4e748>"
      ]
     },
     "execution_count": 7,
     "metadata": {},
     "output_type": "execute_result"
    },
    {
     "data": {
      "image/png": "[encoded data removed]",
      "text/plain": [
       "<Figure size 432x288 with 1 Axes>"
      ]
     },
     "metadata": {
      "needs_background": "light"
     },
     "output_type": "display_data"
    }
   ],
   "source": [
    "import pandas as pd\n",
    "import numpy as np\n",
    "import matplotlib.pyplot as plt\n",
    "import seaborn as sns\n",
    "\n",
    "# Loading dataset2\n",
    "# https://archive.ics.uci.edu/ml/datasets/forest+fires\n",
    "dmammo = pd.read_csv('NetflixUserbase.csv')\n",
    "\n",
    "var = 'Age'  # Choose the target variable\n",
    "SShape = pd.Series(dmammo[var])\n",
    "nbins = 10\n",
    "inflimit = 0; suplimit = max(SShape)\n",
    "ampl = (suplimit - inflimit)/nbins\n",
    "\n",
    "# Define the range of the variable and bin size\n",
    "fbins = np.arange(0,suplimit+ampl,ampl)\n",
    "\n",
    "# The pandas.cut function groups the data into bins and counts \n",
    "# the frequency\n",
    "ftable = pd.cut(SShape,fbins).value_counts() # Absolute frequency\n",
    "rftable = ftable/len(SShape)*100  # Relative frequency\n",
    "cftable = ftable.cumsum()/len(SShape)*100  # Cumulative frequency\n",
    "df = pd.DataFrame({'Bins':ftable.index.to_list(),\n",
    "                   'Frequency':ftable.to_list(),\n",
    "                   'Relative Frequency':rftable.to_list(),\n",
    "                   'Cumulative Frequency':cftable.to_list()})\n",
    "print(df)\n",
    "plt.xticks(fbins)\n",
    "sns.histplot(dmammo,x=var,bins=fbins, kde = 2)"
   ]
  },
  {
   "cell_type": "code",
   "execution_count": 33,
   "metadata": {},
   "outputs": [
    {
     "name": "stdout",
     "output_type": "stream",
     "text": [
      "           Bins  Frequency  Relative Frequency  Cumulative Frequency\n",
      "0   (8.0, 12.0]       1252               50.08                 50.08\n",
      "1  (12.0, 16.0]       1248               49.92                100.00\n",
      "2    (4.0, 8.0]          0                0.00                100.00\n",
      "3    (0.0, 4.0]          0                0.00                100.00\n"
     ]
    },
    {
     "data": {
      "text/plain": [
       "<matplotlib.axes._subplots.AxesSubplot at 0x238c5d00fc8>"
      ]
     },
     "execution_count": 33,
     "metadata": {},
     "output_type": "execute_result"
    },
    {
     "data": {
      "image/png": "[encoded data removed]",
      "text/plain": [
       "<Figure size 432x288 with 1 Axes>"
      ]
     },
     "metadata": {
      "needs_background": "light"
     },
     "output_type": "display_data"
    }
   ],
   "source": [
    "import pandas as pd\n",
    "import numpy as np\n",
    "import matplotlib.pyplot as plt\n",
    "import seaborn as sns\n",
    "\n",
    "# Loading dataset2\n",
    "# https://archive.ics.uci.edu/ml/datasets/forest+fires\n",
    "dmammo = pd.read_csv('NetflixUserbase.csv')\n",
    "\n",
    "var = 'Monthly Revenue'  # Choose the target variable\n",
    "SShape = pd.Series(dmammo[var])\n",
    "nbins = 3\n",
    "inflimit = 3; suplimit = max(SShape)\n",
    "ampl = (suplimit - inflimit)/nbins\n",
    "\n",
    "# Define the range of the variable and bin size\n",
    "fbins = np.arange(0,suplimit+ampl,ampl)\n",
    "\n",
    "# The pandas.cut function groups the data into bins and counts \n",
    "# the frequency\n",
    "ftable = pd.cut(SShape,fbins).value_counts() # Absolute frequency\n",
    "rftable = ftable/len(SShape)*100  # Relative frequency\n",
    "cftable = ftable.cumsum()/len(SShape)*100  # Cumulative frequency\n",
    "df = pd.DataFrame({'Bins':ftable.index.to_list(),\n",
    "                   'Frequency':ftable.to_list(),\n",
    "                   'Relative Frequency':rftable.to_list(),\n",
    "                   'Cumulative Frequency':cftable.to_list()})\n",
    "print(df)\n",
    "plt.xticks(fbins)\n",
    "sns.histplot(dmammo,x=var,bins=fbins, kde = 2)"
   ]
  },
  {
   "cell_type": "code",
   "execution_count": 32,
   "metadata": {},
   "outputs": [
    {
     "name": "stdout",
     "output_type": "stream",
     "text": [
      "   Frequency  Relative Frequency  Cumulative Frequency\n",
      "0        636               25.44                 25.44\n",
      "1        633               25.32                 50.76\n",
      "2        621               24.84                 75.60\n",
      "3        610               24.40                100.00\n"
     ]
    },
    {
     "data": {
      "text/plain": [
       "([<matplotlib.patches.Wedge at 0x2801de8eec8>,\n",
       "  <matplotlib.patches.Wedge at 0x2801dc45bc8>,\n",
       "  <matplotlib.patches.Wedge at 0x2801dec0448>,\n",
       "  <matplotlib.patches.Wedge at 0x2801e4e2788>],\n",
       " [Text(0.766991678376055, 0.7884946197038267, 'Laptop'),\n",
       "  Text(-0.806580937987672, 0.7479486549723365, 'Tablet'),\n",
       "  Text(-0.7438849120800023, -0.8103303262125436, 'Smartphone'),\n",
       "  Text(0.7923399922432711, -0.7630185690348127, 'Smart TV')],\n",
       " [Text(0.41835909729603, 0.43008797438390545, '25.44%'),\n",
       "  Text(-0.43995323890236654, 0.4079719936212744, '25.32%'),\n",
       "  Text(-0.4057554065890921, -0.44199835975229645, '24.84%'),\n",
       "  Text(0.43218545031451144, -0.4161919467462614, '24.40%')])"
      ]
     },
     "execution_count": 32,
     "metadata": {},
     "output_type": "execute_result"
    },
    {
     "data": {
      "image/png": "[encoded data removed]",
      "text/plain": [
       "<Figure size 432x288 with 1 Axes>"
      ]
     },
     "metadata": {},
     "output_type": "display_data"
    }
   ],
   "source": [
    "# Determining the frequency distribution, frequency table and pie chart \n",
    "# of variable 'Device' in the Netflix dataset\n",
    "\n",
    "import pandas as pd\n",
    "import matplotlib.pyplot as plt\n",
    "\n",
    "# Loading dataset1\n",
    "# https://archive.ics.uci.edu/ml/datasets/Mammographic+Mass\n",
    "dmammo = pd.read_csv('NetflixUserbase.csv')\n",
    "\n",
    "SShape = pd.Series(dmammo['Device'])\n",
    "ftable = SShape.value_counts()  # Generate the frequency table\n",
    "rftable = ftable/len(SShape)*100  # Relative frequency\n",
    "cftable = ftable.cumsum()/len(SShape)*100  # Cumulative frequency\n",
    "df = pd.DataFrame({'Frequency':ftable.to_list(),\n",
    "                   'Relative Frequency':rftable.to_list(),\n",
    "                  'Cumulative Frequency':cftable.to_list()})\n",
    "print(df)\n",
    "fig, figftable = plt.subplots()\n",
    "figftable.pie(ftable.to_list(), labels=ftable.index.to_list(),\n",
    "              autopct='%1.2f%%')  # From Matplotlib"
   ]
  },
  {
   "cell_type": "code",
   "execution_count": 5,
   "metadata": {},
   "outputs": [
    {
     "name": "stdout",
     "output_type": "stream",
     "text": [
      "   Frequency  Relative Frequency  Cumulative Frequency\n",
      "0        455               18.20                 18.20\n",
      "1        431               17.24                 35.44\n",
      "2        418               16.72                 52.16\n",
      "3        409               16.36                 68.52\n",
      "4        399               15.96                 84.48\n",
      "5        388               15.52                100.00\n"
     ]
    },
    {
     "data": {
      "text/plain": [
       "([<matplotlib.patches.Wedge at 0x295bd69c6c8>,\n",
       "  <matplotlib.patches.Wedge at 0x295bd6a7188>,\n",
       "  <matplotlib.patches.Wedge at 0x295bd6ac108>,\n",
       "  <matplotlib.patches.Wedge at 0x295bd6b3188>,\n",
       "  <matplotlib.patches.Wedge at 0x295bd6b8548>,\n",
       "  <matplotlib.patches.Wedge at 0x295bd6bf5c8>],\n",
       " [Text(0.9250390474384775, 0.595233366600121, '12'),\n",
       "  Text(-0.125515361425465, 1.0928155809862135, '14'),\n",
       "  Text(-1.0175849106209862, 0.4177570462319934, '13'),\n",
       "  Text(-0.8759042871872603, -0.6654259385438603, '10'),\n",
       "  Text(0.10351909748547859, -1.0951181655217817, '15'),\n",
       "  Text(0.9718185839439111, -0.5153335229744438, '11')],\n",
       " [Text(0.5045667531482604, 0.3246727454182478, '18.20%'),\n",
       "  Text(-0.06846292441388999, 0.5960812259924799, '17.24%'),\n",
       "  Text(-0.5550463148841742, 0.22786747976290544, '16.72%'),\n",
       "  Text(-0.4777659748294147, -0.3629596028421056, '16.36%'),\n",
       "  Text(0.0564649622648065, -0.5973371811936989, '15.96%'),\n",
       "  Text(0.530082863969406, -0.28109101253151475, '15.52%')])"
      ]
     },
     "execution_count": 5,
     "metadata": {},
     "output_type": "execute_result"
    },
    {
     "data": {
      "image/png": "[encoded data removed]",
      "text/plain": [
       "<Figure size 432x288 with 1 Axes>"
      ]
     },
     "metadata": {},
     "output_type": "display_data"
    }
   ],
   "source": [
    "# Determining the frequency distribution, frequency table and pie chart \n",
    "# of variable 'Monthly Revenue' in the Netflix dataset\n",
    "\n",
    "import pandas as pd\n",
    "import matplotlib.pyplot as plt\n",
    "\n",
    "# Loading dataset1\n",
    "# https://archive.ics.uci.edu/ml/datasets/Mammographic+Mass\n",
    "dmammo = pd.read_csv('NetflixUserbase.csv')\n",
    "\n",
    "SShape = pd.Series(dmammo['Monthly Revenue'])\n",
    "ftable = SShape.value_counts()  # Generate the frequency table\n",
    "rftable = ftable/len(SShape)*100  # Relative frequency\n",
    "cftable = ftable.cumsum()/len(SShape)*100  # Cumulative frequency\n",
    "df = pd.DataFrame({'Frequency':ftable.to_list(),\n",
    "                   'Relative Frequency':rftable.to_list(),\n",
    "                  'Cumulative Frequency':cftable.to_list()})\n",
    "print(df)\n",
    "fig, figftable = plt.subplots()\n",
    "figftable.pie(ftable.to_list(), labels=ftable.index.to_list(),\n",
    "              autopct='%1.2f%%')  # From Matplotlib"
   ]
  },
  {
   "cell_type": "code",
   "execution_count": 33,
   "metadata": {},
   "outputs": [
    {
     "name": "stdout",
     "output_type": "stream",
     "text": [
      "   Frequency  Relative Frequency  Cumulative Frequency\n",
      "0       1257               50.28                 50.28\n",
      "1       1243               49.72                100.00\n"
     ]
    },
    {
     "data": {
      "text/plain": [
       "([<matplotlib.patches.Wedge at 0x2801de38448>,\n",
       "  <matplotlib.patches.Wedge at 0x2801de38c08>],\n",
       " [Text(-0.009675938404905706, 1.0999574429113086, 'Female'),\n",
       "  Text(0.009675938404905327, -1.0999574429113086, 'Male')],\n",
       " [Text(-0.005277784584494021, 0.5999767870425319, '50.28%'),\n",
       "  Text(0.005277784584493813, -0.5999767870425319, '49.72%')])"
      ]
     },
     "execution_count": 33,
     "metadata": {},
     "output_type": "execute_result"
    },
    {
     "data": {
      "image/png": "[encoded data removed]",
      "text/plain": [
       "<Figure size 432x288 with 1 Axes>"
      ]
     },
     "metadata": {},
     "output_type": "display_data"
    }
   ],
   "source": [
    "# Determining the frequency distribution, frequency table and pie chart \n",
    "# of variable 'Gender' in the Netflix dataset\n",
    "\n",
    "import pandas as pd\n",
    "import matplotlib.pyplot as plt\n",
    "\n",
    "# Loading dataset1\n",
    "# https://archive.ics.uci.edu/ml/datasets/Mammographic+Mass\n",
    "dmammo = pd.read_csv('NetflixUserbase.csv')\n",
    "\n",
    "SShape = pd.Series(dmammo['Gender'])\n",
    "ftable = SShape.value_counts()  # Generate the frequency table\n",
    "rftable = ftable/len(SShape)*100  # Relative frequency\n",
    "cftable = ftable.cumsum()/len(SShape)*100  # Cumulative frequency\n",
    "df = pd.DataFrame({'Frequency':ftable.to_list(),\n",
    "                   'Relative Frequency':rftable.to_list(),\n",
    "                  'Cumulative Frequency':cftable.to_list()})\n",
    "print(df)\n",
    "fig, figftable = plt.subplots()\n",
    "figftable.pie(ftable.to_list(), labels=ftable.index.to_list(),\n",
    "              autopct='%1.2f%%')  # From Matplotlib"
   ]
  },
  {
   "cell_type": "code",
   "execution_count": 35,
   "metadata": {},
   "outputs": [
    {
     "name": "stdout",
     "output_type": "stream",
     "text": [
      "   Frequency  Relative Frequency  Cumulative Frequency\n",
      "0        451               18.04                 18.04\n",
      "1        451               18.04                 36.08\n",
      "2        317               12.68                 48.76\n",
      "3        183                7.32                 56.08\n",
      "4        183                7.32                 63.40\n",
      "5        183                7.32                 70.72\n",
      "6        183                7.32                 78.04\n",
      "7        183                7.32                 85.36\n",
      "8        183                7.32                 92.68\n",
      "9        183                7.32                100.00\n"
     ]
    },
    {
     "data": {
      "text/plain": [
       "([<matplotlib.patches.Wedge at 0x2801dcf93c8>,\n",
       "  <matplotlib.patches.Wedge at 0x2801dca99c8>,\n",
       "  <matplotlib.patches.Wedge at 0x2801dca9048>,\n",
       "  <matplotlib.patches.Wedge at 0x2801dd12348>,\n",
       "  <matplotlib.patches.Wedge at 0x2801dcf5388>,\n",
       "  <matplotlib.patches.Wedge at 0x2801dcf5dc8>,\n",
       "  <matplotlib.patches.Wedge at 0x2801dcaeb08>,\n",
       "  <matplotlib.patches.Wedge at 0x2801dcae108>,\n",
       "  <matplotlib.patches.Wedge at 0x2801dcf5088>,\n",
       "  <matplotlib.patches.Wedge at 0x2801dcf5a48>],\n",
       " [Text(0.9280193129508262, 0.59057612108032, 'Spain'),\n",
       "  Text(-0.14197976017100997, 1.0907986742299345, 'United States'),\n",
       "  Text(-0.9775845946158301, 0.5043097861134594, 'Canada'),\n",
       "  Text(-1.0873084037876544, -0.16661463036823343, 'France'),\n",
       "  Text(-0.9003619179341273, -0.6319402002832071, 'Mexico'),\n",
       "  Text(-0.5262912989222179, -0.9659282937562005, 'Germany'),\n",
       "  Text(-0.042840439433695844, -1.0991654546741942, 'Brazil'),\n",
       "  Text(0.44951403973650744, -1.0039607203868912, 'United Kingdom'),\n",
       "  Text(0.8484450595702503, -0.7001006933940537, 'Italy'),\n",
       "  Text(1.0710419373859932, -0.25073724964683336, 'Australia')],\n",
       " [Text(0.5061923525186324, 0.32213242968017447, '18.04%'),\n",
       "  Text(-0.0774435055478236, 0.5949810950345097, '18.04%'),\n",
       "  Text(-0.5332279606995436, 0.27507806515279604, '12.68%'),\n",
       "  Text(-0.5930773111569023, -0.09088070747358186, '7.32%'),\n",
       "  Text(-0.49110650069134215, -0.3446946546999311, '7.32%'),\n",
       "  Text(-0.2870679812303007, -0.526869978412473, '7.32%'),\n",
       "  Text(-0.02336751241837955, -0.5995447934586513, '7.32%'),\n",
       "  Text(0.24518947621991313, -0.5476149383928497, '7.32%'),\n",
       "  Text(0.46278821431104555, -0.38187310548766557, '7.32%'),\n",
       "  Text(0.5842046931196325, -0.13676577253463634, '7.32%')])"
      ]
     },
     "execution_count": 35,
     "metadata": {},
     "output_type": "execute_result"
    },
    {
     "data": {
      "image/png": "[encoded data removed]",
      "text/plain": [
       "<Figure size 432x288 with 1 Axes>"
      ]
     },
     "metadata": {},
     "output_type": "display_data"
    }
   ],
   "source": [
    "# Determining the frequency distribution, frequency table and pie chart \n",
    "# of variable 'Country' in the Netflix dataset\n",
    "\n",
    "import pandas as pd\n",
    "import matplotlib.pyplot as plt\n",
    "\n",
    "# Loading dataset1\n",
    "# https://archive.ics.uci.edu/ml/datasets/Mammographic+Mass\n",
    "dmammo = pd.read_csv('NetflixUserbase.csv')\n",
    "\n",
    "SShape = pd.Series(dmammo['Country'])\n",
    "ftable = SShape.value_counts()  # Generate the frequency table\n",
    "rftable = ftable/len(SShape)*100  # Relative frequency\n",
    "cftable = ftable.cumsum()/len(SShape)*100  # Cumulative frequency\n",
    "df = pd.DataFrame({'Frequency':ftable.to_list(),\n",
    "                   'Relative Frequency':rftable.to_list(),\n",
    "                  'Cumulative Frequency':cftable.to_list()})\n",
    "print(df)\n",
    "fig, figftable = plt.subplots()\n",
    "figftable.pie(ftable.to_list(), labels=ftable.index.to_list(),\n",
    "              autopct='%1.2f%%')  # From Matplotlib"
   ]
  },
  {
   "cell_type": "code",
   "execution_count": 37,
   "metadata": {},
   "outputs": [
    {
     "name": "stdout",
     "output_type": "stream",
     "text": [
      "   Frequency  Relative Frequency  Cumulative Frequency\n",
      "0        999               39.96                 39.96\n",
      "1        768               30.72                 70.68\n",
      "2        733               29.32                100.00\n"
     ]
    },
    {
     "data": {
      "text/plain": [
       "([<matplotlib.patches.Wedge at 0x2801d4d78c8>,\n",
       "  <matplotlib.patches.Wedge at 0x2801d4d7708>,\n",
       "  <matplotlib.patches.Wedge at 0x2801d37dac8>],\n",
       " [Text(0.34123307389303664, 1.0457341867231413, 'Basic'),\n",
       "  Text(-1.0391166897267612, -0.36088295212062604, 'Standard'),\n",
       "  Text(0.6654260205519349, -0.8759042248855843, 'Premium')],\n",
       " [Text(0.18612713121438362, 0.5704004654853497, '39.96%'),\n",
       "  Text(-0.5667909216691424, -0.19684524661125055, '30.72%'),\n",
       "  Text(0.36295964757378263, -0.4777659408466822, '29.32%')])"
      ]
     },
     "execution_count": 37,
     "metadata": {},
     "output_type": "execute_result"
    },
    {
     "data": {
      "image/png": "[encoded data removed]",
      "text/plain": [
       "<Figure size 432x288 with 1 Axes>"
      ]
     },
     "metadata": {},
     "output_type": "display_data"
    }
   ],
   "source": [
    "# Determining the frequency distribution, frequency table and pie chart \n",
    "# of variable 'Subscription type' in the Netflix dataset\n",
    "\n",
    "import pandas as pd\n",
    "import matplotlib.pyplot as plt\n",
    "\n",
    "# Loading dataset1\n",
    "# https://archive.ics.uci.edu/ml/datasets/Mammographic+Mass\n",
    "dmammo = pd.read_csv('NetflixUserbase.csv')\n",
    "\n",
    "SShape = pd.Series(dmammo['Subscription Type'])\n",
    "ftable = SShape.value_counts()  # Generate the frequency table\n",
    "rftable = ftable/len(SShape)*100  # Relative frequency\n",
    "cftable = ftable.cumsum()/len(SShape)*100  # Cumulative frequency\n",
    "df = pd.DataFrame({'Frequency':ftable.to_list(),\n",
    "                   'Relative Frequency':rftable.to_list(),\n",
    "                  'Cumulative Frequency':cftable.to_list()})\n",
    "print(df)\n",
    "fig, figftable = plt.subplots()\n",
    "figftable.pie(ftable.to_list(), labels=ftable.index.to_list(),\n",
    "              autopct='%1.2f%%')  # From Matplotlib"
   ]
  },
  {
   "cell_type": "code",
   "execution_count": 6,
   "metadata": {},
   "outputs": [
    {
     "data": {
      "image/png": "[encoded data removed]",
      "text/plain": [
       "<Figure size 432x288 with 1 Axes>"
      ]
     },
     "metadata": {
      "needs_background": "light"
     },
     "output_type": "display_data"
    },
    {
     "data": {
      "image/png": "[encoded data removed]",
      "text/plain": [
       "<Figure size 432x288 with 1 Axes>"
      ]
     },
     "metadata": {
      "needs_background": "light"
     },
     "output_type": "display_data"
    },
    {
     "data": {
      "image/png": "[encoded data removed]",
      "text/plain": [
       "<Figure size 432x288 with 1 Axes>"
      ]
     },
     "metadata": {
      "needs_background": "light"
     },
     "output_type": "display_data"
    }
   ],
   "source": [
    "# Plot distributions with different shapes \n",
    "\n",
    "# Alternative implementation\n",
    "\n",
    "import pandas as pd\n",
    "import matplotlib.pyplot as plt\n",
    "import seaborn as sns\n",
    "\n",
    "dmammo = pd.read_csv('NetflixUserbase.csv')\n",
    "var = ['Age','Monthly Revenue','Device']\n",
    "for i in var:\n",
    "    sns.histplot(dmammo,x=i,bins='auto', kde = 2); plt.show()"
   ]
  },
  {
   "cell_type": "code",
   "execution_count": 12,
   "metadata": {},
   "outputs": [
    {
     "name": "stdout",
     "output_type": "stream",
     "text": [
      "**netflix Dataset**\n",
      "\n",
      "*Numeric Variable *\n",
      "Mean of variable Age: 38.80\n",
      "Median of variable Age: 39.00\n",
      "Midpoint of variable Age: 38.50\n",
      "\n",
      "*Numeric Variable Monthly Revenue*\n",
      "Mean of variable Monthly Revenue: 12.51\n",
      "Median of variable Monthly Revenue: 12.00\n",
      "Midpoint of variable Monthly Revenue: 12.50\n",
      "\n",
      "*Categorical Variables*\n",
      "Mode of nominal variable Subscription Type: Basic\n",
      "Mode of nominal variable Gender: Female\n",
      "Mode of nominal variable Device: Laptop\n"
     ]
    }
   ],
   "source": [
    "# Calculating the mean and mode one by one using the Statistics library\n",
    "# Numeric variables\n",
    "\n",
    "import statistics as st\n",
    "\n",
    "# https://archive.ics.uci.edu/ml/datasets/forest+fires\n",
    "dmammo = pd.read_csv('NetflixUserbase.csv')\n",
    "\n",
    "print('**netflix Dataset**')\n",
    "print('\\n*Numeric Variable *')\n",
    "print('Mean of variable Age: {:.2f}'.format(st.mean(dmammo['Age'])))\n",
    "print('Median of variable Age: {:.2f}'.format(st.median(dmammo['Age'])))\n",
    "midpoint = (max(dmammo['Age'])+min(dmammo['Age']))/2\n",
    "print('Midpoint of variable Age: {:.2f}'.format(midpoint))\n",
    "\n",
    "print('\\n*Numeric Variable Monthly Revenue*')\n",
    "print('Mean of variable Monthly Revenue: {:.2f}'.format(st.mean(dmammo['Monthly Revenue'])))\n",
    "print('Median of variable Monthly Revenue: {:.2f}'.format(st.median(dmammo['Monthly Revenue'])))\n",
    "midpoint = (max(dmammo['Monthly Revenue'])+min(dmammo['Monthly Revenue']))/2\n",
    "print('Midpoint of variable Monthly Revenue: {:.2f}'.format(midpoint))\n",
    "\n",
    "# Nominal variables\n",
    "print('\\n*Categorical Variables*')\n",
    "print('Mode of nominal variable Subscription Type: {v1}'\n",
    "      .format(v1=st.mode(dmammo['Subscription Type'])))\n",
    "\n",
    "print('Mode of nominal variable Gender: {v1}'\n",
    "      .format(v1=st.mode(dmammo['Gender'])))\n",
    "print('Mode of nominal variable Device: {v1}'\n",
    "      .format(v1=st.mode(dmammo['Device'])))\n",
    "\n"
   ]
  },
  {
   "cell_type": "code",
   "execution_count": 29,
   "metadata": {
    "scrolled": true
   },
   "outputs": [
    {
     "name": "stdout",
     "output_type": "stream",
     "text": [
      "*Variability Measures*\n",
      "Range of variable Age: 25.00\n",
      "IQR of variable Age: 13.00\n",
      "sIQR of variable Age: 6.50\n",
      "Variance of variable Age: 51.41\n",
      "Standard deviation of variable Age: 7.17\n",
      "Variation coefficient of variable Age: 18.48\n"
     ]
    }
   ],
   "source": [
    "# Calculate the variability measures range (Eq. 3.9), \n",
    "# IQR (Eq. 3.10), sIQR (Eq. 3.11), variance (Eq. 3.12), \n",
    "# std (Eq. 3.14), and CV (Eq. 3.16) using Numpy\n",
    "# part of #1 Summary measures Age \n",
    "import numpy as np\n",
    "\n",
    "# https://archive.ics.uci.edu/ml/datasets/forest+fires\n",
    "dmammo = pd.read_csv('NetflixUserbase.csv')\n",
    "\n",
    "var = 'Age'\n",
    "drange = np.max(dmammo[var]) - np.min(dmammo[var])\n",
    "Q1, Q3 = np.percentile(dmammo[var], [25,75])\n",
    "IQR = Q3 - Q1\n",
    "sIQR = IQR / 2\n",
    "dvar = np.var(dmammo[var])\n",
    "dstd = np.std(dmammo[var])\n",
    "CV = dstd / np.mean(dmammo[var]) * 100\n",
    "\n",
    "print('*Variability Measures*')\n",
    "print('Range of variable Age: {:.2f}'.format(drange))\n",
    "print('IQR of variable Age: {:.2f}'.format(IQR))\n",
    "print('sIQR of variable Age: {:.2f}'.format(sIQR))\n",
    "print('Variance of variable Age: {:.2f}'.format(dvar))\n",
    "print('Standard deviation of variable Age: {:.2f}'.format(dstd))\n",
    "print('Variation coefficient of variable Age: {:.2f}'.format(CV))\n",
    "\n"
   ]
  },
  {
   "cell_type": "code",
   "execution_count": 32,
   "metadata": {},
   "outputs": [
    {
     "name": "stdout",
     "output_type": "stream",
     "text": [
      "*Variability Measures*\n",
      "Range of variable Monthly Revenue: 5.00\n",
      "IQR of variable Monthly Revenue: 3.00\n",
      "sIQR of variable Monthly Revenue: 1.50\n",
      "Variance of variable Monthly Revenue: 2.84\n",
      "Standard deviation of variable Monthly Revenue: 1.69\n",
      "Variation coefficient of variable Monthly Revenue: 13.48\n"
     ]
    }
   ],
   "source": [
    "# Calculate the variability measures range (Eq. 3.9), \n",
    "# IQR (Eq. 3.10), sIQR (Eq. 3.11), variance (Eq. 3.12), \n",
    "# std (Eq. 3.14), and CV (Eq. 3.16) using Numpy\n",
    "# part of #1 Summary measures Monthly Revenure\n",
    "\n",
    "dmammo = pd.read_csv('NetflixUserbase.csv')\n",
    "var = 'Monthly Revenue'\n",
    "drange = np.max(dmammo[var]) - np.min(dmammo[var])\n",
    "Q1, Q3 = np.percentile(dmammo[var], [25,75])\n",
    "IQR = Q3 - Q1\n",
    "sIQR = IQR / 2\n",
    "dvar = np.var(dmammo[var])\n",
    "dstd = np.std(dmammo[var])\n",
    "CV = dstd / np.mean(dmammo[var]) * 100\n",
    "\n",
    "print('*Variability Measures*')\n",
    "print('Range of variable Monthly Revenue: {:.2f}'.format(drange))\n",
    "print('IQR of variable Monthly Revenue: {:.2f}'.format(IQR))\n",
    "print('sIQR of variable Monthly Revenue: {:.2f}'.format(sIQR))\n",
    "print('Variance of variable Monthly Revenue: {:.2f}'.format(dvar))\n",
    "print('Standard deviation of variable Monthly Revenue: {:.2f}'.format(dstd))\n",
    "print('Variation coefficient of variable Monthly Revenue: {:.2f}'.format(CV))"
   ]
  },
  {
   "cell_type": "code",
   "execution_count": 15,
   "metadata": {},
   "outputs": [
    {
     "name": "stdout",
     "output_type": "stream",
     "text": [
      "Mean, median and midpoint for temp: 38.7956 39.0 38.5\n"
     ]
    },
    {
     "data": {
      "image/png": "[encoded data removed]",
      "text/plain": [
       "<Figure size 432x288 with 1 Axes>"
      ]
     },
     "metadata": {
      "needs_background": "light"
     },
     "output_type": "display_data"
    }
   ],
   "source": [
    "# Plot the central tendency measures over the histogram \n",
    "import statistics as st\n",
    "import seaborn as sns\n",
    "import matplotlib.pyplot as plt\n",
    "\n",
    "\n",
    "dmammo = pd.read_csv('NetflixUserbase.csv')\n",
    "\n",
    "var = 'Age'  # Choose the target variable\n",
    "mean = st.mean(dmammo[var])\n",
    "median = st.median(dmammo[var])\n",
    "midpoint = (max(dmammo[var])+min(dmammo[var]))/2\n",
    "print('Mean, median and midpoint for Age:',mean,median,midpoint)\n",
    "sns.histplot(dmammo,x=var,bins='auto', kde = 2)\n",
    "plt.axvline(x=mean, color='r', linestyle='--', label='Mean')\n",
    "plt.axvline(x=median, color='g', linestyle='-', label='Median')\n",
    "plt.axvline(x=midpoint, color='b', linestyle=':', label='Midpoint')\n",
    "plt.legend() # Add a legend\n",
    "plt.show()"
   ]
  },
  {
   "cell_type": "code",
   "execution_count": 26,
   "metadata": {},
   "outputs": [
    {
     "name": "stdout",
     "output_type": "stream",
     "text": [
      "Weighted average of variable Age: 39.24\n",
      "Geometric mean of variable Age: 38.12\n",
      "Harmonic mean of variable Age: 37.44\n",
      "Trimmed mean of variable Age: 38.77\n",
      "\n",
      "Weighted average of variable Age: 57.33\n",
      "Geometric mean of variable Age: 38.12\n",
      "Harmonic mean of variable Age: 37.44\n",
      "Trimmed mean of variable Age: 38.77\n",
      "Weighted average of variable Monthly Revenue: 8.55\n",
      "Geometric mean of variable Monthly Revenue: 12.39\n",
      "Harmonic mean of variable Monthly Revenue: 12.28\n",
      "Trimmed mean of variable Monthly Revenue: 12.51\n",
      "\n",
      "Weighted average of variable Monthly Revenue: 11.45\n",
      "Geometric mean of variable Monthly Revenue: 12.39\n",
      "Harmonic mean of variable Monthly Revenue: 12.28\n",
      "Trimmed mean of variable Monthly Revenue: 12.51\n"
     ]
    }
   ],
   "source": [
    "# Calculate the weighted average (Eq. 3.5), geometric (Eq. 3.6) \n",
    "# harmonic (Eq. 3.7), and trimmed (Eq. 3.8) means\n",
    "# part of summary measures, included in #1  Age and Monthly Revenue\n",
    "import numpy as np\n",
    "import scipy.stats as spy\n",
    "\n",
    "# \n",
    "dmammo = pd.read_csv('NetflixUserbase.csv')\n",
    "\n",
    "var = 'Age'\n",
    "weights = np.random.randn(len(dmammo[var]))\n",
    "wavg = np.average(dmammo[var], weights=weights)\n",
    "gavg = spy.gmean(dmammo[var])  # From Scipy library\n",
    "havg = spy.hmean(dmammo[var])  # From Scipy library\n",
    "tavg = spy.trim_mean(dmammo[var],0.05)  # 5% trim\n",
    "\n",
    "print('Weighted average of variable Age: {:.2f}'.format(wavg))\n",
    "print('Geometric mean of variable Age: {:.2f}'.format(gavg))\n",
    "print('Harmonic mean of variable Age: {:.2f}'.format(havg))\n",
    "print('Trimmed mean of variable Age: {:.2f}'.format(tavg))\n",
    "\n",
    "var = 'Age'\n",
    "weights = np.random.randn(len(dmammo[var]))\n",
    "wavg = np.average(dmammo[var], weights=weights)\n",
    "gavg = spy.gmean(dmammo[var])  # From Scipy library\n",
    "havg = spy.hmean(dmammo[var])  # From Scipy library\n",
    "tavg = spy.trim_mean(dmammo[var],0.05)  # 5% trim\n",
    "\n",
    "print('\\nWeighted average of variable Age: {:.2f}'.format(wavg))\n",
    "print('Geometric mean of variable Age: {:.2f}'.format(gavg))\n",
    "print('Harmonic mean of variable Age: {:.2f}'.format(havg))\n",
    "print('Trimmed mean of variable Age: {:.2f}'.format(tavg))\n",
    "\n",
    "dmammo = pd.read_csv('NetflixUserbase.csv')\n",
    "\n",
    "var = 'Monthly Revenue'\n",
    "weights = np.random.randn(len(dmammo[var]))\n",
    "wavg = np.average(dmammo[var], weights=weights)\n",
    "gavg = spy.gmean(dmammo[var])  # From Scipy library\n",
    "havg = spy.hmean(dmammo[var])  # From Scipy library\n",
    "tavg = spy.trim_mean(dmammo[var],0.05)  # 5% trim\n",
    "\n",
    "print('Weighted average of variable Monthly Revenue: {:.2f}'.format(wavg))\n",
    "print('Geometric mean of variable Monthly Revenue: {:.2f}'.format(gavg))\n",
    "print('Harmonic mean of variable Monthly Revenue: {:.2f}'.format(havg))\n",
    "print('Trimmed mean of variable Monthly Revenue: {:.2f}'.format(tavg))\n",
    "\n",
    "var = 'Monthly Revenue'\n",
    "weights = np.random.randn(len(dmammo[var]))\n",
    "wavg = np.average(dmammo[var], weights=weights)\n",
    "gavg = spy.gmean(dmammo[var])  # From Scipy library\n",
    "havg = spy.hmean(dmammo[var])  # From Scipy library\n",
    "tavg = spy.trim_mean(dmammo[var],0.05)  # 5% trim\n",
    "\n",
    "print('\\nWeighted average of variable Monthly Revenue: {:.2f}'.format(wavg))\n",
    "print('Geometric mean of variable Monthly Revenue: {:.2f}'.format(gavg))\n",
    "print('Harmonic mean of variable Monthly Revenue: {:.2f}'.format(havg))\n",
    "print('Trimmed mean of variable Monthly Revenue: {:.2f}'.format(tavg))"
   ]
  },
  {
   "cell_type": "code",
   "execution_count": 24,
   "metadata": {},
   "outputs": [
    {
     "name": "stdout",
     "output_type": "stream",
     "text": [
      "Monthly Revenue Skewness: -0.02\n",
      "Monthly Revenue Kurtosis: -1.23 (Platykurtic)\n",
      "Age Skewness: 0.03\n",
      "Age Kurtosis: -1.20 (Platykurtic)\n"
     ]
    }
   ],
   "source": [
    "# Calculate the Skewness and Kurtosis for the Netlix Userbase variables\n",
    "\n",
    "import pandas as pd\n",
    "\n",
    "# load dataset\n",
    "dforest = pd.read_csv(\"NetflixUserbase.csv\")\n",
    "\n",
    "# Skewness and kurtosis for each variable\n",
    "skewness = dmammo[['Monthly Revenue', 'Age']].skew()\n",
    "kurt = dmammo[['Monthly Revenue', 'Age']].kurtosis()\n",
    "\n",
    "# Print the results and classify the kurtosis\n",
    "for var in skewness.index:\n",
    "    print(f\"{var} Skewness: {skewness[var]:.2f}\")\n",
    "    if kurt[var] > 0:\n",
    "        print(f\"{var} Kurtosis: {kurt[var]:.2f} (Leptokurtic)\")\n",
    "    elif kurt[var] < 0:\n",
    "        print(f\"{var} Kurtosis: {kurt[var]:.2f} (Platykurtic)\")\n",
    "    else:\n",
    "        print(f\"{var} Kurtosis: {kurt[var]:.2f} (Mesokurtic)\")"
   ]
  },
  {
   "cell_type": "code",
   "execution_count": 16,
   "metadata": {},
   "outputs": [
    {
     "name": "stdout",
     "output_type": "stream",
     "text": [
      "Mean, median and midpoint for Monthly Revenue: 12.5084 12.0 12.5\n"
     ]
    },
    {
     "data": {
      "image/png": "[encoded data removed]",
      "text/plain": [
       "<Figure size 432x288 with 1 Axes>"
      ]
     },
     "metadata": {
      "needs_background": "light"
     },
     "output_type": "display_data"
    }
   ],
   "source": [
    "# Plot the central tendency measures over the histogram \n",
    "import statistics as st\n",
    "import seaborn as sns\n",
    "import matplotlib.pyplot as plt\n",
    "\n",
    "\n",
    "dmammo = pd.read_csv('NetflixUserbase.csv')\n",
    "\n",
    "var = 'Monthly Revenue'  # Choose the target variable\n",
    "mean = st.mean(dmammo[var])\n",
    "median = st.median(dmammo[var])\n",
    "midpoint = (max(dmammo[var])+min(dmammo[var]))/2\n",
    "print('Mean, median and midpoint for Monthly Revenue:',mean,median,midpoint)\n",
    "sns.histplot(dmammo,x=var,bins='auto', kde = 2)\n",
    "plt.axvline(x=mean, color='r', linestyle='--', label='Mean')\n",
    "plt.axvline(x=median, color='g', linestyle='-', label='Median')\n",
    "plt.axvline(x=midpoint, color='b', linestyle=':', label='Midpoint')\n",
    "plt.legend() # Add a legend\n",
    "plt.show()"
   ]
  },
  {
   "cell_type": "code",
   "execution_count": 23,
   "metadata": {
    "scrolled": true
   },
   "outputs": [
    {
     "name": "stdout",
     "output_type": "stream",
     "text": [
      "**Contingency Tables**\n",
      "Variables Subscription Type and Subscription Type:\n",
      " Subscription Type  Basic  Premium  Standard\n",
      "Subscription Type                          \n",
      "Basic                999        0         0\n",
      "Premium                0      733         0\n",
      "Standard               0        0       768\n",
      "Variables Monthly Revenue and Subscription Type:\n",
      " Subscription Type  Basic  Premium  Standard\n",
      "Monthly Revenue                            \n",
      "10                   160      128       121\n",
      "11                   169       99       120\n",
      "12                   180      115       160\n",
      "13                   168      125       125\n",
      "14                   164      135       132\n",
      "15                   158      131       110\n",
      "Variables Country and Subscription Type:\n",
      " Subscription Type  Basic  Premium  Standard\n",
      "Country                                    \n",
      "Australia             31      101        51\n",
      "Brazil               146       33         4\n",
      "Canada               145       88        84\n",
      "France                36      147         0\n",
      "Germany              149        3        31\n",
      "Italy                176        4         3\n",
      "Mexico                 4        0       179\n",
      "Spain                110      212       129\n",
      "United Kingdom         3        0       180\n",
      "United States        199      145       107\n",
      "Variables Age and Subscription Type:\n",
      " Subscription Type  Basic  Premium  Standard\n",
      "Age                                        \n",
      "26                     0        1         0\n",
      "27                    34       32        21\n",
      "28                    40       41        34\n",
      "29                    49       24        31\n",
      "30                    48       37        31\n",
      "31                    53       36        26\n",
      "32                    40       25        27\n",
      "33                    28       33        32\n",
      "34                    28       24        36\n",
      "35                    34       32        39\n",
      "36                    45       36        18\n",
      "37                    41       28        38\n",
      "38                    40       18        31\n",
      "39                    62       24        30\n",
      "40                    35       33        35\n",
      "41                    34       41        39\n",
      "42                    37       22        43\n",
      "43                    41       24        29\n",
      "44                    33       28        25\n",
      "45                    37       25        27\n",
      "46                    45       30        24\n",
      "47                    48       28        35\n",
      "48                    32       35        34\n",
      "49                    46       24        27\n",
      "50                    36       25        23\n",
      "51                    33       27        33\n",
      "Variables Gender and Subscription Type:\n",
      " Subscription Type  Basic  Premium  Standard\n",
      "Gender                                     \n",
      "Female               512      364       381\n",
      "Male                 487      369       387\n",
      "Variables Device and Subscription Type:\n",
      " Subscription Type  Basic  Premium  Standard\n",
      "Device                                     \n",
      "Laptop               259      192       185\n",
      "Smart TV             238      188       184\n",
      "Smartphone           251      171       199\n",
      "Tablet               251      182       200\n"
     ]
    }
   ],
   "source": [
    "# Generate Contingency Tables for the Subscription Plan\n",
    "\n",
    "import pandas as pd\n",
    "\n",
    "dmammo = pd.read_csv('NetflixUserbase.csv')\n",
    "cols = ['Subscription Type','Monthly Revenue', 'Country', 'Age', 'Gender', 'Device']\n",
    "\n",
    "\n",
    "# Remove rows with missing values\n",
    "dmammo.dropna(inplace=True)\n",
    "\n",
    "# Print the contingency tables\n",
    "var = ['Subscription Type','Monthly Revenue','Country','Age','Gender','Device']\n",
    "print('**Contingency Tables**')\n",
    "for i in var:\n",
    "    CT = pd.crosstab(dmammo[i], dmammo['Subscription Type'])\n",
    "    print('Variables',i, 'and Subscription Type:\\n',CT)"
   ]
  },
  {
   "cell_type": "code",
   "execution_count": 2,
   "metadata": {},
   "outputs": [
    {
     "name": "stdout",
     "output_type": "stream",
     "text": [
      "**Contingency Tables**\n",
      "Variables Subscription Type and Country:\n",
      " Country            Australia  Brazil  Canada  France  Germany  Italy  Mexico  \\\n",
      "Subscription Type                                                              \n",
      "Basic                     31     146     145      36      149    176       4   \n",
      "Premium                  101      33      88     147        3      4       0   \n",
      "Standard                  51       4      84       0       31      3     179   \n",
      "\n",
      "Country            Spain  United Kingdom  United States  \n",
      "Subscription Type                                        \n",
      "Basic                110               3            199  \n",
      "Premium              212               0            145  \n",
      "Standard             129             180            107  \n",
      "Variables Monthly Revenue and Country:\n",
      " Country          Australia  Brazil  Canada  France  Germany  Italy  Mexico  \\\n",
      "Monthly Revenue                                                              \n",
      "10                      35      31      50      25       34     30      39   \n",
      "11                      24      30      54      31       38     21      22   \n",
      "12                      38      29      58      31       22     35      42   \n",
      "13                      27      36      51      29       35     28      38   \n",
      "14                      35      26      63      38       27     33      23   \n",
      "15                      24      31      41      29       27     36      19   \n",
      "\n",
      "Country          Spain  United Kingdom  United States  \n",
      "Monthly Revenue                                        \n",
      "10                  66              24             75  \n",
      "11                  80              27             61  \n",
      "12                  75              39             86  \n",
      "13                  70              27             77  \n",
      "14                  88              28             70  \n",
      "15                  72              38             82  \n",
      "Variables Country and Country:\n",
      " Country         Australia  Brazil  Canada  France  Germany  Italy  Mexico  \\\n",
      "Country                                                                     \n",
      "Australia             183       0       0       0        0      0       0   \n",
      "Brazil                  0     183       0       0        0      0       0   \n",
      "Canada                  0       0     317       0        0      0       0   \n",
      "France                  0       0       0     183        0      0       0   \n",
      "Germany                 0       0       0       0      183      0       0   \n",
      "Italy                   0       0       0       0        0    183       0   \n",
      "Mexico                  0       0       0       0        0      0     183   \n",
      "Spain                   0       0       0       0        0      0       0   \n",
      "United Kingdom          0       0       0       0        0      0       0   \n",
      "United States           0       0       0       0        0      0       0   \n",
      "\n",
      "Country         Spain  United Kingdom  United States  \n",
      "Country                                               \n",
      "Australia           0               0              0  \n",
      "Brazil              0               0              0  \n",
      "Canada              0               0              0  \n",
      "France              0               0              0  \n",
      "Germany             0               0              0  \n",
      "Italy               0               0              0  \n",
      "Mexico              0               0              0  \n",
      "Spain             451               0              0  \n",
      "United Kingdom      0             183              0  \n",
      "United States       0               0            451  \n",
      "Variables Age and Country:\n",
      " Country  Australia  Brazil  Canada  France  Germany  Italy  Mexico  Spain  \\\n",
      "Age                                                                         \n",
      "26               0       0       0       0        0      0       0      0   \n",
      "27               9      10      10       3        3      7       4     18   \n",
      "28              10       8      15       9        7     10       8     24   \n",
      "29               9      13      11       9        2      8       8     14   \n",
      "30              10       9      15       5        7     11       4     21   \n",
      "31               7       9      16      10        8     11       8     28   \n",
      "32               8       9      13       6       11      6      10     19   \n",
      "33               6       4       7       8        9      3      11     22   \n",
      "34               3       3      10       9        5      6      11     13   \n",
      "35               9       5      15      10        7      6       7     15   \n",
      "36               7       8      15       6       11      8       4     15   \n",
      "37               8       7      16       9        8      7       8     18   \n",
      "38               6       5      13       6       11      6       4     12   \n",
      "39               6       8      23       8       12      7      10     15   \n",
      "40              12      11      12       3        8      7       8     18   \n",
      "41              11       3      13      12        8      6      10     21   \n",
      "42               6       6       8       2        6      8       8     21   \n",
      "43               4       6      13       6        8     10       6     16   \n",
      "44               5       7       9       6        7      9       7     15   \n",
      "45               4      12       8      11        3      8       7     14   \n",
      "46               7       6      19       8        7      7       1     18   \n",
      "47               8      11      12       6       12     10      10     12   \n",
      "48               9       6      12       9        3      4      12     23   \n",
      "49               6       8      10       5       10      8       6     22   \n",
      "50               5       5      13       5        8      4       4     13   \n",
      "51               8       4       9      12        2      6       7     24   \n",
      "\n",
      "Country  United Kingdom  United States  \n",
      "Age                                     \n",
      "26                    0              1  \n",
      "27                    6             17  \n",
      "28                    8             16  \n",
      "29                    6             24  \n",
      "30                    7             27  \n",
      "31                    3             15  \n",
      "32                    3              7  \n",
      "33                    3             20  \n",
      "34                   12             16  \n",
      "35                   12             19  \n",
      "36                    8             17  \n",
      "37                    7             19  \n",
      "38                   10             16  \n",
      "39                    7             20  \n",
      "40                    8             16  \n",
      "41                   11             19  \n",
      "42                   13             24  \n",
      "43                    5             20  \n",
      "44                    6             15  \n",
      "45                    7             15  \n",
      "46                   13             13  \n",
      "47                    6             24  \n",
      "48                    2             21  \n",
      "49                    7             15  \n",
      "50                    7             20  \n",
      "51                    6             15  \n",
      "Variables Gender and Country:\n",
      " Country  Australia  Brazil  Canada  France  Germany  Italy  Mexico  Spain  \\\n",
      "Gender                                                                      \n",
      "Female          89      95     157      91       94     91      89    233   \n",
      "Male            94      88     160      92       89     92      94    218   \n",
      "\n",
      "Country  United Kingdom  United States  \n",
      "Gender                                  \n",
      "Female               93            225  \n",
      "Male                 90            226  \n",
      "Variables Device and Country:\n",
      " Country     Australia  Brazil  Canada  France  Germany  Italy  Mexico  Spain  \\\n",
      "Device                                                                         \n",
      "Laptop             47      44      64      52       63     50      44    107   \n",
      "Smart TV           38      40      78      43       42     46      41    126   \n",
      "Smartphone         55      55      80      47       36     47      46    102   \n",
      "Tablet             43      44      95      41       42     40      52    116   \n",
      "\n",
      "Country     United Kingdom  United States  \n",
      "Device                                     \n",
      "Laptop                  44            121  \n",
      "Smart TV                40            116  \n",
      "Smartphone              54             99  \n",
      "Tablet                  45            115  \n"
     ]
    }
   ],
   "source": [
    "# Generate Contingency Tables for the Country\n",
    "\n",
    "import pandas as pd\n",
    "\n",
    "dmammo = pd.read_csv('NetflixUserbase.csv')\n",
    "cols = ['Subscription Type','Monthly Revenue', 'Country', 'Age', 'Gender', 'Device']\n",
    "\n",
    "\n",
    "# Remove rows with missing values\n",
    "dmammo.dropna(inplace=True)\n",
    "\n",
    "# Print the contingency tables\n",
    "var = ['Subscription Type','Monthly Revenue','Country','Age','Gender','Device']\n",
    "print('**Contingency Tables**')\n",
    "for i in var:\n",
    "    CT = pd.crosstab(dmammo[i], dmammo['Country'])\n",
    "    print('Variables',i, 'and Country:\\n',CT)"
   ]
  },
  {
   "cell_type": "code",
   "execution_count": 3,
   "metadata": {},
   "outputs": [
    {
     "name": "stdout",
     "output_type": "stream",
     "text": [
      "**Contingency Tables**\n",
      "Variables Subscription Type and Gender:\n",
      " Gender             Female  Male\n",
      "Subscription Type              \n",
      "Basic                 512   487\n",
      "Premium               364   369\n",
      "Standard              381   387\n",
      "Variables Monthly Revenue and Gender:\n",
      " Gender           Female  Male\n",
      "Monthly Revenue              \n",
      "10                  212   197\n",
      "11                  181   207\n",
      "12                  235   220\n",
      "13                  203   215\n",
      "14                  224   207\n",
      "15                  202   197\n",
      "Variables Country and Gender:\n",
      " Gender          Female  Male\n",
      "Country                     \n",
      "Australia           89    94\n",
      "Brazil              95    88\n",
      "Canada             157   160\n",
      "France              91    92\n",
      "Germany             94    89\n",
      "Italy               91    92\n",
      "Mexico              89    94\n",
      "Spain              233   218\n",
      "United Kingdom      93    90\n",
      "United States      225   226\n",
      "Variables Age and Gender:\n",
      " Gender  Female  Male\n",
      "Age                 \n",
      "26           1     0\n",
      "27          38    49\n",
      "28          57    58\n",
      "29          47    57\n",
      "30          57    59\n",
      "31          56    59\n",
      "32          50    42\n",
      "33          42    51\n",
      "34          51    37\n",
      "35          49    56\n",
      "36          48    51\n",
      "37          51    56\n",
      "38          33    56\n",
      "39          57    59\n",
      "40          54    49\n",
      "41          56    58\n",
      "42          59    43\n",
      "43          44    50\n",
      "44          51    35\n",
      "45          46    43\n",
      "46          53    46\n",
      "47          59    52\n",
      "48          57    44\n",
      "49          50    47\n",
      "50          41    43\n",
      "51          50    43\n",
      "Variables Gender and Gender:\n",
      " Gender  Female  Male\n",
      "Gender              \n",
      "Female    1257     0\n",
      "Male         0  1243\n",
      "Variables Device and Gender:\n",
      " Gender      Female  Male\n",
      "Device                  \n",
      "Laptop         329   307\n",
      "Smart TV       305   305\n",
      "Smartphone     300   321\n",
      "Tablet         323   310\n"
     ]
    }
   ],
   "source": [
    "# Generate Contingency Tables for the Gender\n",
    "\n",
    "import pandas as pd\n",
    "\n",
    "dmammo = pd.read_csv('NetflixUserbase.csv')\n",
    "cols = ['Subscription Type','Monthly Revenue', 'Country', 'Age', 'Gender', 'Device']\n",
    "\n",
    "\n",
    "# Remove rows with missing values\n",
    "dmammo.dropna(inplace=True)\n",
    "\n",
    "# Print the contingency tables\n",
    "var = ['Subscription Type','Monthly Revenue','Country','Age','Gender','Device']\n",
    "print('**Contingency Tables**')\n",
    "for i in var:\n",
    "    CT = pd.crosstab(dmammo[i], dmammo['Gender'])\n",
    "    print('Variables',i, 'and Gender:\\n',CT)"
   ]
  },
  {
   "cell_type": "code",
   "execution_count": 4,
   "metadata": {},
   "outputs": [
    {
     "name": "stdout",
     "output_type": "stream",
     "text": [
      "**Contingency Tables**\n",
      "Variables Subscription Type and Device:\n",
      " Device             Laptop  Smart TV  Smartphone  Tablet\n",
      "Subscription Type                                      \n",
      "Basic                 259       238         251     251\n",
      "Premium               192       188         171     182\n",
      "Standard              185       184         199     200\n",
      "Variables Monthly Revenue and Device:\n",
      " Device           Laptop  Smart TV  Smartphone  Tablet\n",
      "Monthly Revenue                                      \n",
      "10                  100       104         110      95\n",
      "11                   92        89         108      99\n",
      "12                  107       110         119     119\n",
      "13                  124       106          99      89\n",
      "14                  109       117          87     118\n",
      "15                  104        84          98     113\n",
      "Variables Country and Device:\n",
      " Device          Laptop  Smart TV  Smartphone  Tablet\n",
      "Country                                             \n",
      "Australia           47        38          55      43\n",
      "Brazil              44        40          55      44\n",
      "Canada              64        78          80      95\n",
      "France              52        43          47      41\n",
      "Germany             63        42          36      42\n",
      "Italy               50        46          47      40\n",
      "Mexico              44        41          46      52\n",
      "Spain              107       126         102     116\n",
      "United Kingdom      44        40          54      45\n",
      "United States      121       116          99     115\n",
      "Variables Age and Device:\n",
      " Device  Laptop  Smart TV  Smartphone  Tablet\n",
      "Age                                         \n",
      "26           1         0           0       0\n",
      "27          21        27          21      18\n",
      "28          31        26          30      28\n",
      "29          20        23          26      35\n",
      "30          26        32          25      33\n",
      "31          27        25          24      39\n",
      "32          24        31          18      19\n",
      "33          20        24          28      21\n",
      "34          21        23          24      20\n",
      "35          30        20          31      24\n",
      "36          24        28          23      24\n",
      "37          28        29          21      29\n",
      "38          27        16          23      23\n",
      "39          24        31          36      25\n",
      "40          23        23          32      25\n",
      "41          39        17          33      25\n",
      "42          33        20          26      23\n",
      "43          30        22          21      21\n",
      "44          22        18          21      25\n",
      "45          16        24          22      27\n",
      "46          19        25          26      29\n",
      "47          30        29          27      25\n",
      "48          25        29          23      24\n",
      "49          27        24          21      25\n",
      "50          23        20          19      22\n",
      "51          25        24          20      24\n",
      "Variables Gender and Device:\n",
      " Device  Laptop  Smart TV  Smartphone  Tablet\n",
      "Gender                                      \n",
      "Female     329       305         300     323\n",
      "Male       307       305         321     310\n",
      "Variables Device and Device:\n",
      " Device      Laptop  Smart TV  Smartphone  Tablet\n",
      "Device                                          \n",
      "Laptop         636         0           0       0\n",
      "Smart TV         0       610           0       0\n",
      "Smartphone       0         0         621       0\n",
      "Tablet           0         0           0     633\n"
     ]
    }
   ],
   "source": [
    "# Generate Contingency Tables for the Device\n",
    "\n",
    "import pandas as pd\n",
    "\n",
    "dmammo = pd.read_csv('NetflixUserbase.csv')\n",
    "cols = ['Subscription Type','Monthly Revenue', 'Country', 'Age', 'Gender', 'Device']\n",
    "\n",
    "\n",
    "# Remove rows with missing values\n",
    "dmammo.dropna(inplace=True)\n",
    "\n",
    "# Print the contingency tables\n",
    "var = ['Subscription Type','Monthly Revenue','Country','Age','Gender','Device']\n",
    "print('**Contingency Tables**')\n",
    "for i in var:\n",
    "    CT = pd.crosstab(dmammo[i], dmammo['Device'])\n",
    "    print('Variables',i, 'and Device:\\n',CT)"
   ]
  },
  {
   "cell_type": "code",
   "execution_count": 26,
   "metadata": {},
   "outputs": [
    {
     "name": "stdout",
     "output_type": "stream",
     "text": [
      "                 Monthly Revenue   Age\n",
      "Monthly Revenue             2.85 -0.26\n",
      "Age                        -0.26 51.43\n"
     ]
    }
   ],
   "source": [
    "# Calculate and print the Covariance Matrix of the dataset\n",
    "\n",
    "import pandas as pd\n",
    "\n",
    "# Load the dataset\n",
    "dmammo = pd.read_csv('NetflixUserbase.csv')\n",
    "\n",
    "# Select the desired numeric features\n",
    "features = ['Monthly Revenue','Age',]\n",
    "\n",
    "# Compute the covariance matrix and format to two decimal places\n",
    "pd.options.display.float_format = '{:.2f}'.format\n",
    "Mcov = dmammo[features].cov()\n",
    "\n",
    "# Print the covariance matrix\n",
    "print(Mcov)"
   ]
  },
  {
   "cell_type": "code",
   "execution_count": 1,
   "metadata": {},
   "outputs": [
    {
     "name": "stdout",
     "output_type": "stream",
     "text": [
      "**Netflix Dataset: PCC, SRCC, KRCC**\n",
      "Pearson Correlation Coefficient (PCC)\n",
      "                  User ID  Monthly Revenue   Age\n",
      "User ID             1.00            -0.00  0.01\n",
      "Monthly Revenue    -0.00             1.00 -0.02\n",
      "Age                 0.01            -0.02  1.00\n",
      "\n",
      "Spearman Rank Correlation Coefficient (SRCC)\n",
      "                  User ID  Monthly Revenue   Age\n",
      "User ID             1.00            -0.00  0.01\n",
      "Monthly Revenue    -0.00             1.00 -0.02\n",
      "Age                 0.01            -0.02  1.00\n",
      "\n",
      "Kramers Rank Correlation Coefficient (KRCC)\n",
      "                  User ID  Monthly Revenue   Age\n",
      "User ID             1.00            -0.00  0.01\n",
      "Monthly Revenue    -0.00             1.00 -0.02\n",
      "Age                 0.01            -0.02  1.00\n"
     ]
    }
   ],
   "source": [
    "# Calculate Correlation Coefficients: PCC, SRCC and KRCC\n",
    "# for the numerical variables of the  dataset\n",
    "\n",
    "import pandas as pd\n",
    "\n",
    "# Read the data into a pandas dataframe\n",
    "dmammo = pd.read_csv(\"NetflixUserbase.csv\")\n",
    "pd.options.display.float_format = '{:.2f}'.format\n",
    "\n",
    "# Calculate PCC, SRCC, KRCC\n",
    "print('**Netflix Dataset: PCC, SRCC, KRCC**')\n",
    "PCC = dmammo.corr(method='pearson')\n",
    "print('Pearson Correlation Coefficient (PCC)\\n',PCC)\n",
    "SRCC = dmammo.corr(method='spearman')\n",
    "print('\\nSpearman Rank Correlation Coefficient (SRCC)\\n',SRCC)\n",
    "KRCC = dmammo.corr(method='kendall')\n",
    "print('\\nKramers Rank Correlation Coefficient (KRCC)\\n',KRCC)"
   ]
  },
  {
   "cell_type": "code",
   "execution_count": 31,
   "metadata": {},
   "outputs": [
    {
     "name": "stdout",
     "output_type": "stream",
     "text": [
      "\n",
      "**Netflix database: Chi-Square, Krammers V, PBCC**\n",
      "\n",
      "Chi-Square Correlation Coefficient (chi^2)\n",
      "                    Country  Gender  Device  Subscription Type\n",
      "Subscription Type  1683.85    0.63    2.78                nan\n",
      "Country                nan    1.19   32.42            1683.85\n",
      "Gender                1.19     nan    1.66               0.63\n",
      "Device               32.42    1.66     nan               2.78\n",
      "\n",
      "Kramers V Correlation Coefficient (phi)\n",
      "                    Country  Gender  Device  Subscription Type\n",
      "Subscription Type     0.58    0.02    0.02                nan\n",
      "Country                nan    0.02    0.07               0.58\n",
      "Gender                0.02     nan    0.03               0.02\n",
      "Device                0.07    0.03     nan               0.02\n"
     ]
    }
   ],
   "source": [
    "from scipy import stats\n",
    "from scipy.stats import pointbiserialr\n",
    "\n",
    "# Read the data from URL into a pandas dataframe\n",
    "dmammo = pd.read_csv('NetflixUserbase.csv')\n",
    "cols = ['Subscription Type','Monthly Revenue', 'Country', 'Age', 'Gender', 'Device']\n",
    "\n",
    "dmammo.dropna(inplace=True)  # Remove rows with missing values\n",
    "\n",
    "# Chi-square and Cramer's V\n",
    "cvars = ['Subscription Type', 'Country', 'Gender', 'Device']  # Categorical variables\n",
    "chis = pd.DataFrame()\n",
    "phi = pd.DataFrame()\n",
    "for var1 in cvars:\n",
    "    for var2 in cvars:\n",
    "        if var1 != var2:\n",
    "            chi2, p, dof, ex = stats.chi2_contingency(pd.crosstab(dmammo[var1], dmammo[var2]))\n",
    "            chis.loc[var1, var2] = chi2\n",
    "            phi.loc[var1, var2] = np.sqrt(chi2 / (dmammo.shape[0] * (min(ex.shape) - 1)))\n",
    "print('\\n**Netflix database: Chi-Square, Krammers V, PBCC**\\n')\n",
    "print('Chi-Square Correlation Coefficient (chi^2)\\n',chis)\n",
    "print('\\nKramers V Correlation Coefficient (phi)\\n',phi)\n",
    "\n"
   ]
  },
  {
   "cell_type": "code",
   "execution_count": null,
   "metadata": {},
   "outputs": [],
   "source": []
  }
 ],
 "metadata": {
  "kernelspec": {
   "display_name": "Python 3",
   "language": "python",
   "name": "python3"
  },
  "language_info": {
   "codemirror_mode": {
    "name": "ipython",
    "version": 3
   },
   "file_extension": ".py",
   "mimetype": "text/x-python",
   "name": "python",
   "nbconvert_exporter": "python",
   "pygments_lexer": "ipython3",
   "version": "3.7.6"
  }
 },
 "nbformat": 4,
 "nbformat_minor": 4
}
